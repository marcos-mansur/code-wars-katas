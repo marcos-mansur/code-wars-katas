{
 "cells": [
  {
   "cell_type": "markdown",
   "id": "9644840b",
   "metadata": {},
   "source": [
    "# Exercise\n",
    "\n",
    "create a function that return a string of numbers in the format of a telefone number"
   ]
  },
  {
   "cell_type": "code",
   "execution_count": 6,
   "id": "a5886847",
   "metadata": {},
   "outputs": [
    {
     "name": "stdout",
     "output_type": "stream",
     "text": [
      "[0, 1, 2, 3, 4, 5, 6, 7, 8, 9]\n"
     ]
    }
   ],
   "source": [
    "number = [n for n in range(10)]\n",
    "print (number)"
   ]
  },
  {
   "cell_type": "code",
   "execution_count": 7,
   "id": "aa9f8e7d",
   "metadata": {},
   "outputs": [],
   "source": [
    "def create_phone_number(n):\n",
    "    tel_num = (f\"({n[0]}{n[1]}{n[2]}) {n[3]}{n[4]}{n[5]}-{n[6]}{n[7]}{n[8]}{n[9]}\")\n",
    "    return tel_num\n",
    "    "
   ]
  },
  {
   "cell_type": "code",
   "execution_count": 8,
   "id": "11054de2",
   "metadata": {},
   "outputs": [
    {
     "data": {
      "text/plain": [
       "'(012) 345-6789'"
      ]
     },
     "execution_count": 8,
     "metadata": {},
     "output_type": "execute_result"
    }
   ],
   "source": [
    "create_phone_number(number)"
   ]
  },
  {
   "cell_type": "markdown",
   "id": "dc045470",
   "metadata": {},
   "source": [
    "# Exercise\n",
    "\n",
    "receive a str and returns True if the amount of x equals the amount of s"
   ]
  },
  {
   "cell_type": "code",
   "execution_count": null,
   "id": "38ec1e0a",
   "metadata": {},
   "outputs": [],
   "source": [
    "def xo(s):\n",
    "    if s.count((\"x\").lower()) == s.count((\"s\").lower()):\n",
    "        ret = True\n",
    "    else:\n",
    "        ret = False\n",
    "    return ret"
   ]
  },
  {
   "cell_type": "code",
   "execution_count": null,
   "id": "b561ed7c",
   "metadata": {},
   "outputs": [],
   "source": [
    "test.expect(xo('xo'), 'True expected')\n",
    "test.expect(xo('xo0'), 'True expected')\n",
    "test.expect(not xo('xxxoo'), 'False expected')"
   ]
  },
  {
   "cell_type": "code",
   "execution_count": 12,
   "id": "f31e0f6d",
   "metadata": {},
   "outputs": [],
   "source": [
    "s = ('Xo')"
   ]
  },
  {
   "cell_type": "code",
   "execution_count": 14,
   "id": "6c54238b",
   "metadata": {},
   "outputs": [
    {
     "data": {
      "text/plain": [
       "1"
      ]
     },
     "execution_count": 14,
     "metadata": {},
     "output_type": "execute_result"
    }
   ],
   "source": [
    "s.lower().count('x')"
   ]
  },
  {
   "cell_type": "markdown",
   "id": "e81d378d",
   "metadata": {},
   "source": [
    "# Exercise\n",
    "\n",
    "Given two integers a and b, which can be positive or negative, find the sum of all the integers between and including them and return it. If the two numbers are equal return a or b."
   ]
  },
  {
   "cell_type": "code",
   "execution_count": 43,
   "id": "b3f2dbc1",
   "metadata": {},
   "outputs": [],
   "source": [
    "def get_sum(a,b):\n",
    "    sum = 0\n",
    "    if a != b:\n",
    "        lim = [max(a,b),min(a,b)]\n",
    "        for x in range(lim[1],lim[0]+1):\n",
    "            sum = sum+x\n",
    "            print(x)\n",
    "    else:\n",
    "        sum = a\n",
    "    return sum"
   ]
  },
  {
   "cell_type": "code",
   "execution_count": 45,
   "id": "f04660a5",
   "metadata": {},
   "outputs": [
    {
     "data": {
      "text/plain": [
       "-10"
      ]
     },
     "execution_count": 45,
     "metadata": {},
     "output_type": "execute_result"
    }
   ],
   "source": [
    "get_sum(-5,-5)"
   ]
  },
  {
   "cell_type": "markdown",
   "id": "ac8c81ff",
   "metadata": {},
   "source": [
    "# Exercise\n",
    "\n",
    "Given an array of integers, find the one that appears an odd number of times."
   ]
  },
  {
   "cell_type": "code",
   "execution_count": 46,
   "id": "0c0325e5",
   "metadata": {},
   "outputs": [],
   "source": [
    "seq = [20,1,-1,2,-2,3,3,5,5,1,2,4,20,4,-1,-2,5]"
   ]
  },
  {
   "cell_type": "code",
   "execution_count": 51,
   "id": "23804b6b",
   "metadata": {},
   "outputs": [
    {
     "data": {
      "text/plain": [
       "2"
      ]
     },
     "execution_count": 51,
     "metadata": {},
     "output_type": "execute_result"
    }
   ],
   "source": [
    "seq.count(1)"
   ]
  },
  {
   "cell_type": "code",
   "execution_count": 62,
   "id": "a117ee1c",
   "metadata": {},
   "outputs": [],
   "source": [
    "def find_it(seq):\n",
    "    seq_un = set(seq)\n",
    "    number_count = {}\n",
    "    for element in seq_un:\n",
    "        number_count[element] = seq.count(element)\n",
    "        \n",
    "    for k, v in number_count:\n",
    "        if v % 2 != 0:\n",
    "            odd_num = k\n",
    "    return odd_num"
   ]
  },
  {
   "cell_type": "code",
   "execution_count": 66,
   "id": "14992864",
   "metadata": {},
   "outputs": [],
   "source": [
    "seq_un = set(seq)\n",
    "number_count = {}\n",
    "for element in seq_un:\n",
    "    number_count[element] = seq.count(element)"
   ]
  },
  {
   "cell_type": "code",
   "execution_count": 67,
   "id": "40f0efb7",
   "metadata": {},
   "outputs": [
    {
     "data": {
      "text/plain": [
       "[2, 2, 2, 2, 3, 2, 2, 2]"
      ]
     },
     "execution_count": 67,
     "metadata": {},
     "output_type": "execute_result"
    }
   ],
   "source": [
    "list(number_count.values())"
   ]
  },
  {
   "cell_type": "code",
   "execution_count": 68,
   "id": "0db96bd4",
   "metadata": {},
   "outputs": [
    {
     "name": "stdout",
     "output_type": "stream",
     "text": [
      "{1, 2, 3, 4, 5, 20, -2, -1}\n"
     ]
    }
   ],
   "source": [
    "print(seq_un)"
   ]
  },
  {
   "cell_type": "code",
   "execution_count": 70,
   "id": "ac09914d",
   "metadata": {},
   "outputs": [
    {
     "data": {
      "text/plain": [
       "dict_items([(1, 2), (2, 2), (3, 2), (4, 2), (5, 3), (20, 2), (-2, 2), (-1, 2)])"
      ]
     },
     "execution_count": 70,
     "metadata": {},
     "output_type": "execute_result"
    }
   ],
   "source": [
    "number_count.items()"
   ]
  },
  {
   "cell_type": "markdown",
   "id": "69b40757",
   "metadata": {},
   "source": [
    "# Exercise\n",
    "\n",
    "Make a program that receives a string of DNA bases and converts A to T, C to G and vice versa"
   ]
  },
  {
   "cell_type": "code",
   "execution_count": 16,
   "id": "a5793813",
   "metadata": {},
   "outputs": [],
   "source": [
    "def DNA_strand(dna):\n",
    "    corresp_dna = []\n",
    "    for n in dna:\n",
    "        if n == \"A\":\n",
    "            corresp_dna.append('T')\n",
    "        elif n == \"T\":\n",
    "            corresp_dna.append('A')\n",
    "        elif n == \"C\":\n",
    "               corresp_dna.append('G')\n",
    "        elif n == \"G\":\n",
    "            corresp_dna.append('C')\n",
    "    final_dna = \"\".join([str(x) for x in corresp_dna])\n",
    "    return final_dna"
   ]
  },
  {
   "cell_type": "code",
   "execution_count": 17,
   "id": "c2c6dea9",
   "metadata": {},
   "outputs": [],
   "source": [
    "dna = \"AATTCAGT\""
   ]
  },
  {
   "cell_type": "code",
   "execution_count": 18,
   "id": "22f07241",
   "metadata": {},
   "outputs": [
    {
     "data": {
      "text/plain": [
       "'TTAAGTCA'"
      ]
     },
     "execution_count": 18,
     "metadata": {},
     "output_type": "execute_result"
    }
   ],
   "source": [
    "DNA_strand(dna)"
   ]
  },
  {
   "cell_type": "markdown",
   "id": "19f7ae59",
   "metadata": {},
   "source": [
    "# Exercise: \n",
    "\n",
    "Given the triangle of consecutive odd numbers:\n"
   ]
  },
  {
   "cell_type": "code",
   "execution_count": 15,
   "id": "f365eaf7",
   "metadata": {},
   "outputs": [],
   "source": [
    "#             1             \n",
    "#          3     5           \n",
    "#       7     9    11       \n",
    "#   13    15    17    19    \n",
    "#21    23    25    27    29 "
   ]
  },
  {
   "cell_type": "markdown",
   "id": "2af3b9e1",
   "metadata": {},
   "source": [
    "Calculate the sum of the numbers in the nth row of this triangle (starting at index 1) e.g.:\n",
    "\n",
    "row_sum_odd_numbers(1); # 1\n",
    "\n",
    "row_sum_odd_numbers(2); # 3 + 5 = 8"
   ]
  },
  {
   "cell_type": "markdown",
   "id": "45a9875e",
   "metadata": {},
   "source": [
    "## first (failed) attempt "
   ]
  },
  {
   "cell_type": "code",
   "execution_count": 30,
   "id": "2a8d9376",
   "metadata": {},
   "outputs": [],
   "source": [
    "def row_sum_odd_numbers(n):\n",
    "    #create an empty list for the rows of the triangle\n",
    "    rows_list = []\n",
    "    #create a list with odd numbers\n",
    "    lista1 = [x for x in (range(1,n*100000,2))]\n",
    "\n",
    "    #loop for each row of the triangle\n",
    "    for z in range(n):\n",
    "        # will loop once for each item in a row\n",
    "        for x in range(z+1):\n",
    "            #take the first item from the list of odd numbers\n",
    "            pop_var = lista1.pop(0)\n",
    "            if z == n-1:\n",
    "                #fill the list rows with the elements taken \n",
    "                rows_list.append(pop_var)\n",
    "        \n",
    "    sum_odd = 0\n",
    "    for x in rows_list:\n",
    "        sum_odd += x\n",
    "    print(sum_odd)\n",
    "    print(rows_list)\n",
    "    \n",
    "    return sum_odd"
   ]
  },
  {
   "cell_type": "code",
   "execution_count": 31,
   "id": "1a8dfe87",
   "metadata": {},
   "outputs": [
    {
     "name": "stdout",
     "output_type": "stream",
     "text": [
      "343\n",
      "[43, 45, 47, 49, 51, 53, 55]\n"
     ]
    },
    {
     "data": {
      "text/plain": [
       "343"
      ]
     },
     "execution_count": 31,
     "metadata": {},
     "output_type": "execute_result"
    }
   ],
   "source": [
    "row_sum_odd_numbers(7)"
   ]
  },
  {
   "cell_type": "markdown",
   "id": "b110a7b8",
   "metadata": {},
   "source": [
    "Works for the first rows of the piramid but as you go down in the piramid the processing time gets to high"
   ]
  },
  {
   "cell_type": "markdown",
   "id": "7e2ffa18",
   "metadata": {},
   "source": [
    "## Second Attempt"
   ]
  },
  {
   "cell_type": "code",
   "execution_count": 19,
   "id": "b44098cd",
   "metadata": {},
   "outputs": [],
   "source": [
    "#             1              - row 1 = 1 element  -> 1*(2*f+1) where f is the  (0th) odd number\n",
    "#          3     5           - row 2 = 2 elements -> 2*(2*f+1), where f is the (1th and 2th) odd number \n",
    "#       7     9    11        - row 3 = 3 elements -> 3*(2*f+1), where f is the (3th, 4th and 5th) odd number\n",
    "#   13    15    17    19     - row 4 = 4 elements -> 4*(2*f+1), where f is the (6th, 7th, 8th and 9th) odd number\n",
    "# 21    23    25    27    29 - row 5 = 5 elements -> 5*(2*f+1), where f is the (10th, 11th, 12th and 13th) odd number\n",
    "#                              row n = n elements -> n (2*f+1), where f is the (?th, (?+1)th + ... (?+f)th) odd number"
   ]
  },
  {
   "cell_type": "markdown",
   "id": "adb1dc91",
   "metadata": {},
   "source": [
    "We need to find out what is the first element of the 'n' row.\n",
    "\n",
    "As each row has the same amount of elements as it's index, the sum of al the integer positive numbers until 'n' is the 'f' factor in (2*f+1) to determine what is the first element of the n row (?th odd number)"
   ]
  },
  {
   "cell_type": "code",
   "execution_count": 7,
   "id": "8a49d7c1",
   "metadata": {},
   "outputs": [],
   "source": [
    "def row_sum_odd_numbers(n):\n",
    "    sum_elements = 0\n",
    "    #calculating how many odd elements there are before the fisrt element of the n row\n",
    "    for c in range(1,n):\n",
    "        sum_elements += c\n",
    "    f = sum_elements\n",
    "    # transforming summation of n(2*f+1) in summation of (2*f*n + n) where f is [?th, (?+1)th + ... (?+f)th] odd number\n",
    "    sum_n_row = n \n",
    "    for z in range(1,n+1):\n",
    "        sum_n_row += 2*f\n",
    "        f += 1\n",
    "    \n",
    "    return sum_n_row"
   ]
  },
  {
   "cell_type": "code",
   "execution_count": 24,
   "id": "ca3683be",
   "metadata": {},
   "outputs": [
    {
     "data": {
      "text/plain": [
       "27"
      ]
     },
     "execution_count": 24,
     "metadata": {},
     "output_type": "execute_result"
    }
   ],
   "source": [
    "row_sum_odd_numbers(3)"
   ]
  },
  {
   "cell_type": "markdown",
   "id": "5042c6cc",
   "metadata": {},
   "source": [
    "## math \"trick\""
   ]
  },
  {
   "cell_type": "code",
   "execution_count": null,
   "id": "8b03112e",
   "metadata": {},
   "outputs": [],
   "source": [
    "def row_sum_odd_numbers(n):\n",
    "    return n ** 3"
   ]
  },
  {
   "cell_type": "markdown",
   "id": "2a3aeb19",
   "metadata": {},
   "source": [
    "# Exercise\n",
    "\n",
    "In a control strig, any letter outside the interval from \"a\" to \"m\" is a error.\n",
    "\n",
    "Write a function printer_error which given a string will return the error rate of the printer as a string representing a rational whose numerator is the number of errors and the denominator the length of the control string. Don't reduce this fraction to a simpler expression.\n",
    "\n",
    "Example:\n",
    "\n",
    "- s=\"aaabbbbhaijjjm\"\n",
    "error_printer(s) => \"0/14\"\n",
    "\n",
    "- s=\"aaaxbbbbyyhwawiwjjjwwm\"\n",
    "error_printer(s) => \"8/22\""
   ]
  },
  {
   "cell_type": "code",
   "execution_count": 27,
   "id": "8b52f015",
   "metadata": {},
   "outputs": [],
   "source": [
    "def printer_error(s):\n",
    "    numerator=0\n",
    "    for letter in s:\n",
    "        if letter > 'm':\n",
    "            numerator +=1 \n",
    "    return (f'{numerator}/{len(s)}')"
   ]
  },
  {
   "cell_type": "code",
   "execution_count": 30,
   "id": "9132f373",
   "metadata": {},
   "outputs": [
    {
     "data": {
      "text/plain": [
       "'3/42'"
      ]
     },
     "execution_count": 30,
     "metadata": {},
     "output_type": "execute_result"
    }
   ],
   "source": [
    "s= 'aaaaaaaaaaaaaabbbbbbbbbbbbeeeeeeeeeeeeezzz'\n",
    "printer_error(s)"
   ]
  },
  {
   "cell_type": "markdown",
   "id": "08549b42",
   "metadata": {},
   "source": [
    "# Exercise\n",
    "\n",
    "Build Tower by the following given argument:\n",
    "number of floors (integer and always greater than 0)."
   ]
  },
  {
   "cell_type": "code",
   "execution_count": 126,
   "id": "9539bb92",
   "metadata": {},
   "outputs": [
    {
     "data": {
      "text/plain": [
       "['     *     ',\n",
       " '    ***    ',\n",
       " '   *****   ',\n",
       " '  *******  ',\n",
       " ' ********* ',\n",
       " '***********']"
      ]
     },
     "execution_count": 126,
     "metadata": {},
     "output_type": "execute_result"
    }
   ],
   "source": [
    "#for example, a tower of 3 floors looks like below\n",
    "\n",
    "[\n",
    "  '  *  ', \n",
    "  ' *** ', \n",
    "  '*****'\n",
    "]\n",
    "#and a tower of 6 floors looks like below\n",
    "\n",
    "[\n",
    "  '     *     ',   # 1, (2n+1), n = 0\n",
    "  '    ***    ',   # 3, (2n+1), n = 1\n",
    "  '   *****   ',   # 5, (2n+1), n = 2 \n",
    "  '  *******  ',   # 7, (2n+1), n = 3\n",
    "  ' ********* ',   # 9, (2n+1), n = 4\n",
    "  '***********'    # 11, (2n+1), n = 5\n",
    "]"
   ]
  },
  {
   "cell_type": "code",
   "execution_count": 182,
   "id": "a76bfcaf",
   "metadata": {},
   "outputs": [],
   "source": [
    "def tower_builder(n_floors):\n",
    "    return [(\" \"*(n_floors-floor-1) + \"*\"*(2*floor+1) + \" \"*(n_floors-floor-1)) for floor in range(n_floors)]"
   ]
  },
  {
   "cell_type": "code",
   "execution_count": 183,
   "id": "39623f85",
   "metadata": {},
   "outputs": [],
   "source": [
    "tower = tower_builder(7)"
   ]
  },
  {
   "cell_type": "code",
   "execution_count": 184,
   "id": "fe822d5c",
   "metadata": {},
   "outputs": [
    {
     "data": {
      "text/plain": [
       "['      *      ',\n",
       " '     ***     ',\n",
       " '    *****    ',\n",
       " '   *******   ',\n",
       " '  *********  ',\n",
       " ' *********** ',\n",
       " '*************']"
      ]
     },
     "execution_count": 184,
     "metadata": {},
     "output_type": "execute_result"
    }
   ],
   "source": [
    "tower"
   ]
  },
  {
   "cell_type": "markdown",
   "id": "c507eb5d",
   "metadata": {},
   "source": [
    "# Exercise\n",
    "\n",
    "Given a string, detect whether or not it is a pangram. Return True if it is, False if not. Ignore numbers and punctuation."
   ]
  },
  {
   "cell_type": "code",
   "execution_count": 205,
   "id": "d2b660eb",
   "metadata": {},
   "outputs": [],
   "source": [
    "def is_pangram(s):\n",
    "    dic = {}\n",
    "    alfabet = 'abcdefghijklmnopqrstuvwxyz'\n",
    "    for letter in alfabet:\n",
    "        if letter in s.lower():\n",
    "            dic[letter] = s.lower().count(letter)\n",
    "    if len(dic.items()) == len(alfabet):\n",
    "        return True\n",
    "    else:\n",
    "        return False\n"
   ]
  },
  {
   "cell_type": "code",
   "execution_count": 206,
   "id": "382053ca",
   "metadata": {},
   "outputs": [
    {
     "data": {
      "text/plain": [
       "True"
      ]
     },
     "execution_count": 206,
     "metadata": {},
     "output_type": "execute_result"
    }
   ],
   "source": [
    "is_pangram('Cwm fjord bank glyphs vext quiz is')"
   ]
  },
  {
   "cell_type": "markdown",
   "id": "99a7282a",
   "metadata": {},
   "source": [
    "# Exercise\n",
    "\n",
    "Write a function, `persistence`, that takes in a positive parameter num and returns its multiplicative persistence, which is the number of times you must multiply the digits in num until you reach a single digit."
   ]
  },
  {
   "cell_type": "code",
   "execution_count": 37,
   "id": "e51cde9b",
   "metadata": {},
   "outputs": [],
   "source": [
    "def persistence(n):\n",
    "    \n",
    "    #transfor the integer input in string\n",
    "    str_num = str(n)    # \"39\"\n",
    "    \n",
    "    c = 0\n",
    "    \n",
    "    #loop while parameter has more than one digit\n",
    "    while len(str_num) > 1:\n",
    "        produto_digit = 1\n",
    "        #loop for each digir\n",
    "        for digit in range(len(str_num)):\n",
    "            produto_digit *= int(str_num[digit])\n",
    "        c +=1\n",
    "        str_num = str(produto_digit)\n",
    "        print(produto_digit)\n",
    "    return c\n"
   ]
  },
  {
   "cell_type": "code",
   "execution_count": 43,
   "id": "8fa9e5e3",
   "metadata": {},
   "outputs": [
    {
     "data": {
      "text/plain": [
       "3"
      ]
     },
     "execution_count": 43,
     "metadata": {},
     "output_type": "execute_result"
    }
   ],
   "source": [
    "persistence(114968)"
   ]
  },
  {
   "cell_type": "code",
   "execution_count": 34,
   "id": "2743f225",
   "metadata": {},
   "outputs": [
    {
     "data": {
      "text/plain": [
       "1728"
      ]
     },
     "execution_count": 34,
     "metadata": {},
     "output_type": "execute_result"
    }
   ],
   "source": [
    "from functools import reduce\n",
    "from operator import mul\n",
    "\n",
    "n = 114968 \n",
    "reduce(mul,[int(i) for i in str(n)],1)"
   ]
  },
  {
   "cell_type": "code",
   "execution_count": 42,
   "id": "a1a63413",
   "metadata": {},
   "outputs": [],
   "source": [
    "from operator import mul\n",
    "def persistence(n):\n",
    "    return 0 if n<10 else persistence(reduce(mul,[int(i) for i in str(n)],1))+1"
   ]
  },
  {
   "cell_type": "markdown",
   "id": "4a6b863c",
   "metadata": {},
   "source": [
    "\n",
    "# Exercise\n",
    "\n",
    "You will be given an array of numbers. You have to sort the odd numbers in ascending order while leaving the even numbers at their original positions."
   ]
  },
  {
   "cell_type": "code",
   "execution_count": 262,
   "id": "39a1b060",
   "metadata": {},
   "outputs": [],
   "source": [
    "def sort_array(source_array):\n",
    "    dic_odd = {}\n",
    "    #create a dic with {Odd_number_index in source_array : odd_number}\n",
    "    for elem in range(len(source_array)):\n",
    "        if source_array[elem] %2 != 0:            \n",
    "            dic_odd[elem] = source_array[elem]\n",
    "            \n",
    "    #create a list with the odd_numbers sorted by odd number\n",
    "    sorted_odd_list = list(dic_odd.values())\n",
    "    sorted_odd_list.sort()\n",
    "    #create a list with the indexes of the odd numbers in source_array\n",
    "    sorted_odd_index = list(dic_odd.keys())\n",
    "    \n",
    "    #counter to jump to the next element of the list of odd number at each itaration\n",
    "    c = 0\n",
    "    #loop the indexes of the odd numbers and replace them in source_array in order \n",
    "    for x in sorted_odd_index:\n",
    "        source_array[x] = sorted_odd_list[c]\n",
    "        c += 1\n",
    "    \n",
    "    return source_array"
   ]
  },
  {
   "cell_type": "code",
   "execution_count": 266,
   "id": "371cd4b1",
   "metadata": {},
   "outputs": [],
   "source": [
    "source_array = [5, 3, 2, 8, 1, 4]"
   ]
  },
  {
   "cell_type": "code",
   "execution_count": 264,
   "id": "99e1de5a",
   "metadata": {},
   "outputs": [],
   "source": [
    "source_array = [-26, -40, -33, 32, 38, -31, 22, -29, -29, -11, 38, -7, -44, -28, 1, -50, -50, 4, -30, 0, -44, 27, 29, 35, 49, -46, -10]"
   ]
  },
  {
   "cell_type": "code",
   "execution_count": 267,
   "id": "0c29958b",
   "metadata": {},
   "outputs": [
    {
     "data": {
      "text/plain": [
       "[1, 3, 2, 8, 5, 4]"
      ]
     },
     "execution_count": 267,
     "metadata": {},
     "output_type": "execute_result"
    }
   ],
   "source": [
    "sort_array(source_array)"
   ]
  },
  {
   "cell_type": "markdown",
   "id": "adfb38e6",
   "metadata": {},
   "source": [
    "# Exercise\n",
    "\n",
    "There is an array with some numbers. All numbers are equal except for one. Try to find it!\n",
    "\n",
    "\n",
    "find_uniq([ 1, 1, 1, 2, 1, 1 ]) == 2\n",
    "\n",
    "find_uniq([ 0, 0, 0.55, 0, 0 ]) == 0.55\n",
    "\n",
    "It’s guaranteed that array contains at least 3 numbers.\n",
    "\n",
    "The tests contain some very huge arrays, so think about performance."
   ]
  },
  {
   "cell_type": "code",
   "execution_count": 275,
   "id": "babd019f",
   "metadata": {},
   "outputs": [],
   "source": [
    "arr = [ 1, 1, 1, 2, 1, 1 ]"
   ]
  },
  {
   "cell_type": "code",
   "execution_count": 278,
   "id": "5ac05f00",
   "metadata": {},
   "outputs": [],
   "source": [
    "def find_uniq(arr):\n",
    "    #finding out what is the number that repeats\n",
    "    repeated_value = arr[0] if arr[0] == arr[-1] else arr[1]\n",
    "    \n",
    "    for x in arr:\n",
    "        if x != repeated_value:\n",
    "            return x"
   ]
  },
  {
   "cell_type": "code",
   "execution_count": 279,
   "id": "b3d513b7",
   "metadata": {},
   "outputs": [
    {
     "data": {
      "text/plain": [
       "2"
      ]
     },
     "execution_count": 279,
     "metadata": {},
     "output_type": "execute_result"
    }
   ],
   "source": [
    "find_uniq(arr)"
   ]
  },
  {
   "cell_type": "markdown",
   "id": "b154e70a",
   "metadata": {},
   "source": [
    "# Exercise\n",
    "\n",
    "Given n, take the sum of the digits of n. If that value has more than one digit, continue reducing in this way until a single-digit number is produced. The input will be a non-negative integer."
   ]
  },
  {
   "cell_type": "code",
   "execution_count": 352,
   "id": "36c6fdc3",
   "metadata": {},
   "outputs": [],
   "source": [
    "from operator import add\n",
    "from functools import reduce\n",
    "\n",
    "def digital_root(n):\n",
    "    while len(str(n)) > 1:\n",
    "        n = reduce(add,[int(i) for i in str(n)])\n",
    "    return n"
   ]
  },
  {
   "cell_type": "code",
   "execution_count": 349,
   "id": "7f75412a",
   "metadata": {},
   "outputs": [],
   "source": [
    "n= 942"
   ]
  },
  {
   "cell_type": "code",
   "execution_count": 350,
   "id": "7afff48f",
   "metadata": {},
   "outputs": [
    {
     "data": {
      "text/plain": [
       "6"
      ]
     },
     "execution_count": 350,
     "metadata": {},
     "output_type": "execute_result"
    }
   ],
   "source": [
    "digital_root(n)"
   ]
  },
  {
   "cell_type": "code",
   "execution_count": 335,
   "id": "82a35181",
   "metadata": {},
   "outputs": [
    {
     "name": "stdout",
     "output_type": "stream",
     "text": [
      "9\n",
      "4\n",
      "2\n"
     ]
    }
   ],
   "source": [
    "for i in str(n):\n",
    "    print(int(i))"
   ]
  },
  {
   "cell_type": "markdown",
   "id": "90a25e81",
   "metadata": {},
   "source": [
    "# Exercise\n",
    "\n",
    "You are given an array (which will have a length of at least 3, but could be very large) containing integers. The array is either entirely comprised of odd integers or entirely comprised of even integers except for a single integer N. Write a method that takes the array as an argument and returns this \"outlier\" N."
   ]
  },
  {
   "cell_type": "code",
   "execution_count": null,
   "id": "dfc6eed2",
   "metadata": {},
   "outputs": [],
   "source": [
    "def find_outlier(source_array):\n",
    "    # find out if the array is even or odd\n",
    "    if source_array[0] == source_array[1]:\n",
    "        if source_array[0] %2 == 0:\n",
    "            odd_even = 'even'\n",
    "        else: \n",
    "            odd_even = 'odd'\n",
    "    else:\n",
    "        if source_array[2] %2 == 0:\n",
    "            odd_even = 'even'\n",
    "        else: \n",
    "            odd_even = 'odd'\n",
    "    \n",
    "    for j,i in enumerate(source_array):\n",
    "        if i %2 == 0 and odd_even == 'odd':\n",
    "            return i\n",
    "        if i %2 != 0 and odd_even == 'even':\n",
    "            return i"
   ]
  },
  {
   "cell_type": "markdown",
   "id": "4f9538de",
   "metadata": {},
   "source": [
    "# Exercise\n",
    "\n",
    "Your task in order to complete this Kata is to write a function which formats a duration, given as a number of seconds, in a human-friendly way.\n",
    "\n",
    "The function must accept a non-negative integer. If it is zero, it just returns \"now\". Otherwise, the duration is expressed as a combination of years, days, hours, minutes and seconds."
   ]
  },
  {
   "cell_type": "code",
   "execution_count": 681,
   "id": "28acaf15",
   "metadata": {},
   "outputs": [],
   "source": [
    "def format_duration(seconds):\n",
    "    one_second = 1\n",
    "    one_minute = 60\n",
    "    one_hour = 60*one_minute\n",
    "    one_day = 24*one_hour\n",
    "    one_year = 365*one_day\n",
    "\n",
    "    date_format = [one_year, one_day, one_hour, one_minute, one_second]\n",
    "    date_format_str = ['year', 'day','hour', 'minute', 'second']\n",
    "\n",
    "    if seconds == 0:\n",
    "        return \"now\"\n",
    "    \n",
    "    dic_aux = {}\n",
    "\n",
    "    # creating a dic with the 1 pair k,v for each date fomart (year, day, hour, minute, second) \n",
    "    for count, date_form in enumerate(date_format):\n",
    "        if seconds/date_form >= 1:\n",
    "            if seconds/date_form >= 2:\n",
    "                dic_aux[f'{seconds//date_form} {date_format_str[count]}s, '] = date_form\n",
    "            else:\n",
    "                dic_aux[f'1 {date_format_str[count]}, '] = date_form\n",
    "        \n",
    "        #minus the seconds already counted in another date format\n",
    "        seconds -= (seconds//date_form)*date_form\n",
    "\n",
    "    data_final = \"\"\n",
    "    \n",
    "    #concating the strs and fixing \"and\" and commas\n",
    "    for k, value in enumerate(dic_aux.keys()):\n",
    "        if k == len(dic_aux)-1 and k != 0:\n",
    "            data_final = data_final[0:-2]\n",
    "            data_final += \" and \" \n",
    "        data_final += str(value)\n",
    "    data_final = data_final[0:-2]\n",
    "\n",
    "    return data_final"
   ]
  },
  {
   "cell_type": "code",
   "execution_count": 682,
   "id": "c0863b90",
   "metadata": {},
   "outputs": [
    {
     "data": {
      "text/plain": [
       "'1 hour, 37 minutes and 26 seconds'"
      ]
     },
     "execution_count": 682,
     "metadata": {},
     "output_type": "execute_result"
    }
   ],
   "source": [
    "format_duration(5846)"
   ]
  },
  {
   "cell_type": "markdown",
   "id": "210c62e3",
   "metadata": {},
   "source": [
    "# Exercise\n",
    "\n",
    "We want to create a function that will add numbers together when called in succession.\n",
    "\n",
    "- add(1)(2); // returns 3\n",
    "- add(1)(2)(3); // 6\n",
    "- add(1)(2)(3)(4); // 10\n",
    "- add(1)(2)(3)(4)(5); // 15\n",
    "\n",
    "We should be able to store the returned values and reuse them.\n",
    "\n",
    "- var addTwo = add(2);\n",
    "- addTwo; // 2\n",
    "- addTwo + 5; // 7\n",
    "- addTwo(3); // 5\n",
    "- addTwo(3)(5); // 10"
   ]
  },
  {
   "cell_type": "code",
   "execution_count": 701,
   "id": "a94305ec",
   "metadata": {},
   "outputs": [],
   "source": [
    "def add(n):\n",
    "    def add2(b):\n",
    "        if b != 0:\n",
    "            return n+b \n",
    "        else:\n",
    "            return a  \n",
    "    return add2"
   ]
  },
  {
   "cell_type": "code",
   "execution_count": 703,
   "id": "5c8700a8",
   "metadata": {},
   "outputs": [
    {
     "data": {
      "text/plain": [
       "<function __main__.add.<locals>.add2(b)>"
      ]
     },
     "execution_count": 703,
     "metadata": {},
     "output_type": "execute_result"
    }
   ],
   "source": [
    "add(5)"
   ]
  },
  {
   "cell_type": "code",
   "execution_count": null,
   "id": "67df3c1e",
   "metadata": {},
   "outputs": [],
   "source": [
    "class add(int):\n",
    "    def __call__(self, val):\n",
    "        return type(self)(self + val)"
   ]
  },
  {
   "cell_type": "markdown",
   "id": "125ae932",
   "metadata": {},
   "source": [
    "# Exercise \n",
    "\n",
    "Write a function, which takes a non-negative integer (seconds) as input and returns the time in a human-readable format (HH:MM:SS)\n",
    "\n",
    "- HH = hours, padded to 2 digits, range: 00 - 99\n",
    "- MM = minutes, padded to 2 digits, range: 00 - 59\n",
    "- SS = seconds, padded to 2 digits, range: 00 - 59\n",
    "\n",
    "The maximum time never exceeds 359999 (99:59:59)\n"
   ]
  },
  {
   "cell_type": "code",
   "execution_count": 758,
   "id": "3a676533",
   "metadata": {},
   "outputs": [],
   "source": [
    "def make_readable(seconds):\n",
    "    one_second = 1\n",
    "    one_minute = 60\n",
    "    one_hour = 60*60\n",
    "\n",
    "    time_format = [ one_hour, one_minute, one_second]\n",
    "\n",
    "    time_final = [\"00:\",\"00:\",\"00\",]\n",
    "\n",
    "    # creating a list with the integer values of HH, MM and SS \n",
    "    for c,time_form in enumerate(time_format):\n",
    "        if seconds/time_form >= 1:\n",
    "            time_final[c] = str(seconds//time_form).zfill(2) + \":\"\n",
    "        else:\n",
    "            time_final[c] = \"00:\"        \n",
    "        #minus the seconds already counted in another date format\n",
    "        seconds -= (seconds//time_form)*time_form\n",
    "    \n",
    "    return (time_final[0]+time_final[1]+time_final[2][0:-1])"
   ]
  },
  {
   "cell_type": "code",
   "execution_count": 763,
   "id": "9df9813f",
   "metadata": {},
   "outputs": [
    {
     "data": {
      "text/plain": [
       "'1818:27:48'"
      ]
     },
     "execution_count": 763,
     "metadata": {},
     "output_type": "execute_result"
    }
   ],
   "source": [
    "make_readable(6546468)"
   ]
  },
  {
   "cell_type": "code",
   "execution_count": null,
   "id": "853ec255",
   "metadata": {},
   "outputs": [],
   "source": []
  }
 ],
 "metadata": {
  "kernelspec": {
   "display_name": "Python 3",
   "language": "python",
   "name": "python3"
  },
  "language_info": {
   "codemirror_mode": {
    "name": "ipython",
    "version": 3
   },
   "file_extension": ".py",
   "mimetype": "text/x-python",
   "name": "python",
   "nbconvert_exporter": "python",
   "pygments_lexer": "ipython3",
   "version": "3.8.8"
  }
 },
 "nbformat": 4,
 "nbformat_minor": 5
}
